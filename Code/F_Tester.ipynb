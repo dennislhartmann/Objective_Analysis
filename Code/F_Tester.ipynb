{
 "cells": [
  {
   "cell_type": "markdown",
   "id": "3ab7aa84-59b1-4908-98f2-4bd2ff6411c8",
   "metadata": {},
   "source": [
    "# Compute a ratio of variances test using the F-statistic\n",
    "The F-statistic is just the ratio of two variances.  If we know the degrees of freedom (DOF) of the two variances, we can compute the probability that the top one exeeds the lower one.\n",
    "First we will input two data sets and compute things.\n",
    "Then we will address the case where we have the ratio of variances and the DOF and we want to compute the probability."
   ]
  },
  {
   "cell_type": "code",
   "execution_count": 52,
   "id": "8cdac38c-2df0-42aa-8284-8b9bcf3a16af",
   "metadata": {},
   "outputs": [],
   "source": [
    "import numpy as np\n",
    "import scipy.stats\n",
    "\n",
    "#define F-test function where we input two time series x and y\n",
    "def f_test(x, y):\n",
    "    x = np.array(x)\n",
    "    y = np.array(y)\n",
    "    f = np.var(x, ddof=1)/np.var(y, ddof=1) #calculate F test statistic \n",
    "    dfn = x.size-1 #define degrees of freedom numerator \n",
    "    dfd = y.size-1 #define degrees of freedom denominator \n",
    "    p = 1-scipy.stats.f.cdf(f, dfn, dfd) #find p-value of F test statistic \n",
    "    return f, p, dfn, dfd\n"
   ]
  },
  {
   "cell_type": "code",
   "execution_count": 53,
   "id": "98fa99dc-b190-43be-ac4e-1c9f1fb69d86",
   "metadata": {},
   "outputs": [
    {
     "name": "stdout",
     "output_type": "stream",
     "text": [
      "F=statistic =  18.924136315982164 , p-value =  1.1102230246251565e-16 , DOF num =  499 , DOF den =  499\n"
     ]
    }
   ],
   "source": [
    "# Import text file containing test data from Homework 2\n",
    "X = np.loadtxt('Data_HW_2.txt')\n",
    "N = np.shape(X)   # what is the shape of the imported data set (500,2)\n",
    "N0=N[0]\n",
    "#print(N)\n",
    "#t = np.arrange(1,N,1)\n",
    "t = np.linspace(1,N0,N0)   # Make a linear series to be like the time\n",
    "x = X[:,0]\n",
    "y = X[:,1]\n",
    "f, p, dfn, dfd = f_test(y,x)\n",
    "print('F=statistic = ',f,', p-value = ',p,', DOF num = ',dfn,', DOF den = ',dfd)"
   ]
  },
  {
   "cell_type": "markdown",
   "id": "681f0403-bac9-4f4e-b7e1-55e95cd373b6",
   "metadata": {},
   "source": [
    "### Interpretation\n",
    "What the above means is that the F-statistic is 18.9 with a tiny p-value, meaning that the variances are highly significantly different."
   ]
  },
  {
   "cell_type": "markdown",
   "id": "609c8f08-9eac-4dfd-86d3-e53ca329e8a8",
   "metadata": {},
   "source": [
    "## Application to Spectral Analysis\n",
    "Next, lets make a function that takes the F value and the DOF and gives a significance level.  This would be useful if we had the ratio of variances, say from spectral analysis, and we knew the dof of the spectral estimate and our null hypothesis.\n",
    "In the following example suppose that the spectral peak exceeds its null hypothesis by a factor of 2, the dof of the spectral estimate is 20 and the dof of the null hypothesis is 100."
   ]
  },
  {
   "cell_type": "code",
   "execution_count": 62,
   "id": "b392e4e2-d09e-4452-abf8-5d9584c42c58",
   "metadata": {},
   "outputs": [
    {
     "name": "stdout",
     "output_type": "stream",
     "text": [
      "F=statistic =  2 , p-value =  0.010057134790730893 , DOF numerator =  23 , DOF denominator =  100\n"
     ]
    }
   ],
   "source": [
    "F = 2\n",
    "dfn = 23\n",
    "dfd = 100\n",
    "p = 1-scipy.stats.f.cdf(F, dfn, dfd)\n",
    "print('F=statistic = ',F,', p-value = ',p,', DOF numerator = ',dfn,', DOF denominator = ',dfd)"
   ]
  },
  {
   "cell_type": "markdown",
   "id": "50c69ff8-014c-4240-a755-6f546d41fe5f",
   "metadata": {},
   "source": [
    "### What we really want is the needed F-statistic to pass a particular confidence level with known DOF on top and bottom\n",
    "Let's try that next"
   ]
  },
  {
   "cell_type": "code",
   "execution_count": 55,
   "id": "96e2a00b-e7c1-4b14-9926-ba2075675012",
   "metadata": {},
   "outputs": [],
   "source": [
    "#  define get_F function, which just iterates\n",
    "# p is the desired probability level, dfn and dfd are the DOF of the numerator and denomiator, F0 is a starting value\n",
    "# F0 is a starting value, df is the F increment, and itmx is the maximum number of iterates\n",
    "def get_F(p, dfn, dfd, F0, df, itmx):\n",
    "    success = False\n",
    "    for i in range(itmx):\n",
    "        F=F0+df*i\n",
    "        p0 = 1-scipy.stats.f.cdf(F, dfn, dfd)\n",
    "        if p0<p:\n",
    "            success = True\n",
    "            break\n",
    "\n",
    "    return F, success"
   ]
  },
  {
   "cell_type": "code",
   "execution_count": 56,
   "id": "6d3f778c-c5e8-4d50-915e-1d58c0e1164d",
   "metadata": {},
   "outputs": [
    {
     "name": "stdout",
     "output_type": "stream",
     "text": [
      "F =  2.1  Success  True\n",
      "F =  2.95  Success  True\n",
      "F =  (2.95, True)\n"
     ]
    }
   ],
   "source": [
    "# ok lets test out our function\n",
    "p=0.01\n",
    "dfn=20\n",
    "dfd=100\n",
    "F0=1.0\n",
    "df=0.05\n",
    "itmx=100\n",
    "F, success = get_F(p, dfn, dfd, F0, df, itmx)\n",
    "print('F = ',F,' Success ' ,success)\n",
    "dfd =20\n",
    "F, success = get_F(p, dfn, dfd, F0, df, itmx)\n",
    "print('F = ',F,' Success ' ,success)\n",
    "F = get_F(p, dfn, dfd, F0, df, itmx)\n",
    "print('F = ',F)"
   ]
  },
  {
   "cell_type": "code",
   "execution_count": 57,
   "id": "5998572d-8833-42d5-8b6a-a5d184a97937",
   "metadata": {},
   "outputs": [],
   "source": [
    "#  define get_F function, which just iterates  % this version assumes an F0, df and itmx\n",
    "# p is the desired probability level, dfn and dfd are the DOF of the numerator and denomiator, F0 is a starting value\n",
    "# F0 is a starting value, df is the F increment, and itmx is the maximum number of iterates\n",
    "def get_F2(p, dfn, dfd):\n",
    "    F0=1.0\n",
    "    df=0.05\n",
    "    itmx=100  # this produces a range of F from 1.0 to 6.0  If you are outside this range your sample is too small\n",
    "    success = False\n",
    "    for i in range(itmx):\n",
    "        F=F0+df*i\n",
    "        p0 = 1-scipy.stats.f.cdf(F, dfn, dfd)\n",
    "        if p0<p:\n",
    "            success = True\n",
    "            break\n",
    "\n",
    "    return F, success"
   ]
  },
  {
   "cell_type": "code",
   "execution_count": 58,
   "id": "0c95e53f-cf97-462b-93be-766b0441aca3",
   "metadata": {},
   "outputs": [
    {
     "name": "stdout",
     "output_type": "stream",
     "text": [
      "F =  2.0  Success  True\n",
      "F =  2.85  Success  True\n",
      "F =  (2.85, True)\n"
     ]
    }
   ],
   "source": [
    "# ok lets test out our function\n",
    "p=0.01\n",
    "dfn=25  # this example shows that if you want to show p=0.01 with F=2.0, you need 25 DOF in the numerator if you assume 100 dof for the denominator\n",
    "dfd=100  # once the DOF of the denominator exceeds about 100, the critical F-statistic becomes insensitive to further increases in dfd\n",
    "\n",
    "F, success = get_F2(p, dfn, dfd)\n",
    "print('F = ',F,' Success ' ,success)\n",
    "dfd =20\n",
    "F, success = get_F(p, dfn, dfd, F0, df, itmx)\n",
    "print('F = ',F,' Success ' ,success)\n",
    "F = get_F(p, dfn, dfd, F0, df, itmx)\n",
    "print('F = ',F)"
   ]
  },
  {
   "cell_type": "markdown",
   "id": "8fb49484-a321-4b95-95d7-66108522fb40",
   "metadata": {},
   "source": [
    "### Final Comment\n",
    "Must be an easier way than get_F2 to do this, but it works OK"
   ]
  },
  {
   "cell_type": "code",
   "execution_count": null,
   "id": "3292c943-14a0-4c9f-9e13-24b8bcdfcc08",
   "metadata": {},
   "outputs": [],
   "source": []
  }
 ],
 "metadata": {
  "kernelspec": {
   "display_name": "Python 3 (ipykernel)",
   "language": "python",
   "name": "python3"
  },
  "language_info": {
   "codemirror_mode": {
    "name": "ipython",
    "version": 3
   },
   "file_extension": ".py",
   "mimetype": "text/x-python",
   "name": "python",
   "nbconvert_exporter": "python",
   "pygments_lexer": "ipython3",
   "version": "3.7.15"
  }
 },
 "nbformat": 4,
 "nbformat_minor": 5
}
